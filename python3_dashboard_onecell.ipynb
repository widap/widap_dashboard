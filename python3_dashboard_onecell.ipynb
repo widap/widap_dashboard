{
 "cells": [
  {
   "cell_type": "markdown",
   "metadata": {},
   "source": [
    "# West Interconnection Data Analysis Program (WIDAP) Dashboard Prototype\n",
    "\n",
    "To begin click in the cell below and hit or click of the [ >| Run ] button in the toolbar above"
   ]
  },
  {
   "cell_type": "code",
   "execution_count": 1,
   "metadata": {
    "scrolled": false
   },
   "outputs": [
    {
     "data": {
      "text/markdown": [
       "## Choose a Plant and a Unit and click Load Dashboard"
      ],
      "text/plain": [
       "<IPython.core.display.Markdown object>"
      ]
     },
     "metadata": {},
     "output_type": "display_data"
    },
    {
     "data": {
      "application/vnd.jupyter.widget-view+json": {
       "model_id": "c6616d5464c8453aa0c8424a2eefa4bc",
       "version_major": 2,
       "version_minor": 0
      },
      "text/plain": [
       "Select(description='Plant:', options=('AZ:Cholla: Unit 1', 'AZ:Cholla: Unit 2', 'AZ:Cholla: Unit 3', 'AZ:Choll…"
      ]
     },
     "metadata": {},
     "output_type": "display_data"
    },
    {
     "data": {
      "application/vnd.jupyter.widget-view+json": {
       "model_id": "34cf4a746e0d4ca69c6d5b8f5e8a38d5",
       "version_major": 2,
       "version_minor": 0
      },
      "text/plain": [
       "Button(description='Load Dashboard', style=ButtonStyle())"
      ]
     },
     "metadata": {},
     "output_type": "display_data"
    },
    {
     "name": "stdout",
     "output_type": "stream",
     "text": [
      "Dashboard Starting for WY:Dave Johnston: Unit BW41.\n",
      "Importing Data. \n",
      "This usually takes 10-20 seconds.\n",
      "data successfully extracted\n",
      "Dashboard ready. Time ellapsed: 21 seconds.\n"
     ]
    },
    {
     "data": {
      "text/markdown": [
       "## Visualization 1: Generation Boxplots"
      ],
      "text/plain": [
       "<IPython.core.display.Markdown object>"
      ]
     },
     "metadata": {},
     "output_type": "display_data"
    },
    {
     "data": {
      "text/markdown": [
       "This plot displays the boxplot of gross generation for each month of the year. It can provide insight regarding the usage of the plant (through the value of the mean) as well as how regular or irregular it is (through the span of the whiskers)."
      ],
      "text/plain": [
       "<IPython.core.display.Markdown object>"
      ]
     },
     "metadata": {},
     "output_type": "display_data"
    },
    {
     "data": {
      "text/markdown": [
       "You may choose below the time range to display."
      ],
      "text/plain": [
       "<IPython.core.display.Markdown object>"
      ]
     },
     "metadata": {},
     "output_type": "display_data"
    },
    {
     "data": {
      "application/vnd.jupyter.widget-view+json": {
       "model_id": "d97c8db0cf764303aff78b7512bfb943",
       "version_major": 2,
       "version_minor": 0
      },
      "text/plain": [
       "interactive(children=(IntRangeSlider(value=(2001, 2017), description='Range:', max=2017, min=2001), Output()),…"
      ]
     },
     "metadata": {},
     "output_type": "display_data"
    },
    {
     "data": {
      "text/markdown": [
       "## Visualization 2: Emissions Time Series"
      ],
      "text/plain": [
       "<IPython.core.display.Markdown object>"
      ]
     },
     "metadata": {},
     "output_type": "display_data"
    },
    {
     "data": {
      "text/markdown": [
       "This plot displays a time series of CO2, SO2, and NOx emissions. It tells a story of how the emissions of a unit changes over time. This can provide insights about upgrades, maintenance, extreme events, etc. The values in this plot are normalized by the average for hourly emissions of each gas."
      ],
      "text/plain": [
       "<IPython.core.display.Markdown object>"
      ]
     },
     "metadata": {},
     "output_type": "display_data"
    },
    {
     "data": {
      "text/markdown": [
       "Below, you may choose the time range to display as well as how much smoothing to apply (this performs an average over the number of days chosen). You may also choose which emissions to display. "
      ],
      "text/plain": [
       "<IPython.core.display.Markdown object>"
      ]
     },
     "metadata": {},
     "output_type": "display_data"
    },
    {
     "data": {
      "application/vnd.jupyter.widget-view+json": {
       "model_id": "c793c2a467ab4ce191e51b1e7e685641",
       "version_major": 2,
       "version_minor": 0
      },
      "text/plain": [
       "interactive(children=(IntRangeSlider(value=(2001, 2017), description='Range:', max=2017, min=2001), IntSlider(…"
      ]
     },
     "metadata": {},
     "output_type": "display_data"
    },
    {
     "data": {
      "text/markdown": [
       "## Visualization 3: Emissions vs Operations"
      ],
      "text/plain": [
       "<IPython.core.display.Markdown object>"
      ]
     },
     "metadata": {},
     "output_type": "display_data"
    },
    {
     "data": {
      "text/markdown": [
       "This plot displays emissions intensity versus capacity factor. This shows how emissions change with utilization rates. We expect carbon intensity to be worse at lower capacity factors, but it is interesting to look and see if that is not the case and think about why."
      ],
      "text/plain": [
       "<IPython.core.display.Markdown object>"
      ]
     },
     "metadata": {},
     "output_type": "display_data"
    },
    {
     "data": {
      "text/markdown": [
       "You may choose below the time range to display as well as the number of years. Additionally, you may widen the display window if needed. The scaling value will increase the viewing range on the Y-Axis."
      ],
      "text/plain": [
       "<IPython.core.display.Markdown object>"
      ]
     },
     "metadata": {},
     "output_type": "display_data"
    },
    {
     "data": {
      "application/vnd.jupyter.widget-view+json": {
       "model_id": "d4f610fb4b2e4766a5b9a3011d1c53c4",
       "version_major": 2,
       "version_minor": 0
      },
      "text/plain": [
       "interactive(children=(IntRangeSlider(value=(2001, 2017), description='Range:', max=2017, min=2001), IntSlider(…"
      ]
     },
     "metadata": {},
     "output_type": "display_data"
    },
    {
     "data": {
      "text/markdown": [
       "## Visualization 4: Histograms"
      ],
      "text/plain": [
       "<IPython.core.display.Markdown object>"
      ]
     },
     "metadata": {},
     "output_type": "display_data"
    },
    {
     "data": {
      "text/markdown": [
       "This section displays a series of histograms of various plant metrics. They show the distribution of time a unit spends operating at various values of these metrics."
      ],
      "text/plain": [
       "<IPython.core.display.Markdown object>"
      ]
     },
     "metadata": {},
     "output_type": "display_data"
    },
    {
     "data": {
      "text/markdown": [
       "You may choose below which histogram to display."
      ],
      "text/plain": [
       "<IPython.core.display.Markdown object>"
      ]
     },
     "metadata": {},
     "output_type": "display_data"
    },
    {
     "data": {
      "application/vnd.jupyter.widget-view+json": {
       "model_id": "36f376aebdbb43eaa7a48edca886c683",
       "version_major": 2,
       "version_minor": 0
      },
      "text/plain": [
       "interactive(children=(IntRangeSlider(value=(2001, 2017), description='Range:', max=2017, min=2001), Checkbox(v…"
      ]
     },
     "metadata": {},
     "output_type": "display_data"
    }
   ],
   "source": [
    "#Select this cell and hit <Shift><Enter> or click run in the toolbar!\n",
    "%run dashboard_init_v4_5"
   ]
  },
  {
   "cell_type": "code",
   "execution_count": null,
   "metadata": {},
   "outputs": [],
   "source": []
  }
 ],
 "metadata": {
  "kernelspec": {
   "display_name": "Python 3",
   "language": "python",
   "name": "python3"
  },
  "language_info": {
   "codemirror_mode": {
    "name": "ipython",
    "version": 3
   },
   "file_extension": ".py",
   "mimetype": "text/x-python",
   "name": "python",
   "nbconvert_exporter": "python",
   "pygments_lexer": "ipython3",
   "version": "3.6.5"
  }
 },
 "nbformat": 4,
 "nbformat_minor": 2
}
