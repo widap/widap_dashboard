{
 "cells": [
  {
   "cell_type": "markdown",
   "metadata": {},
   "source": [
    "# West Interconnection Data Analysis Program (WIDAP) Dashboard Prototype\n",
    "To begin click in the cell below and hit [Shift + Enter] or click of the [ >| Run ] button in the toolbar above"
   ]
  },
  {
   "cell_type": "code",
   "execution_count": 1,
   "metadata": {
    "init_cell": true
   },
   "outputs": [
    {
     "data": {
      "text/markdown": [
       "## Choose a Plant and a Unit and click Load Dashboard"
      ],
      "text/plain": [
       "<IPython.core.display.Markdown object>"
      ]
     },
     "metadata": {},
     "output_type": "display_data"
    },
    {
     "data": {
      "application/vnd.jupyter.widget-view+json": {
       "model_id": "b0025cb936ec47c49b54a4377bcd5c80",
       "version_major": 2,
       "version_minor": 0
      },
      "text/plain": [
       "Select(description='Plant:', layout=Layout(width='initial'), options=('AZ:Cholla: Unit 1', 'AZ:Cholla: Unit 2'…"
      ]
     },
     "metadata": {},
     "output_type": "display_data"
    },
    {
     "data": {
      "application/vnd.jupyter.widget-view+json": {
       "model_id": "c59599a32b7f429fb72c20e88c68450e",
       "version_major": 2,
       "version_minor": 0
      },
      "text/plain": [
       "Button(description='Load Dashboard', style=ButtonStyle())"
      ]
     },
     "metadata": {},
     "output_type": "display_data"
    }
   ],
   "source": [
    "#Select this cell and hit <Shift><Enter> or click run in the toolbar!\n",
    "%run dashboard_init_v4_6"
   ]
  }
 ],
 "metadata": {
  "celltoolbar": "Initialization Cell",
  "kernelspec": {
   "display_name": "Python 3",
   "language": "python",
   "name": "python3"
  },
  "language_info": {
   "codemirror_mode": {
    "name": "ipython",
    "version": 3
   },
   "file_extension": ".py",
   "mimetype": "text/x-python",
   "name": "python",
   "nbconvert_exporter": "python",
   "pygments_lexer": "ipython3",
   "version": "3.6.5"
  }
 },
 "nbformat": 4,
 "nbformat_minor": 2
}
